{
 "cells": [
  {
   "cell_type": "markdown",
   "metadata": {
    "_cell_guid": "b1076dfc-b9ad-4769-8c92-a6c4dae69d19",
    "_uuid": "8f2839f25d086af736a60e9eeb907d3b93b6e0e5",
    "papermill": {
     "duration": 0.021446,
     "end_time": "2021-02-22T03:16:03.844214",
     "exception": false,
     "start_time": "2021-02-22T03:16:03.822768",
     "status": "completed"
    },
    "tags": []
   },
   "source": [
    "# <center>Heart Disease UC Irvine - Detection </center>\n",
    "\n"
   ]
  },
  {
   "cell_type": "markdown",
   "metadata": {
    "papermill": {
     "duration": 0.020055,
     "end_time": "2021-02-22T03:16:03.884633",
     "exception": false,
     "start_time": "2021-02-22T03:16:03.864578",
     "status": "completed"
    },
    "tags": []
   },
   "source": [
    "**Author:** E Kaldany \n",
    "\n",
    "**Description:** \n",
    "\n",
    "This notebook demonstrates heart disease classification using a random forrest. \n",
    "\n",
    "**Outline:**\n",
    "\n",
    "1. [Libraries and settings](#1-bullet)\n",
    "2. [Analyze data](#2-bullet)\n",
    "3. [Manipulate data](#3-bullet)\n",
    "4. [Model and validate data](#4-bullet)\n",
    "5. [Predictions](#5-bullet)\n",
    "\n"
   ]
  },
  {
   "cell_type": "markdown",
   "metadata": {
    "papermill": {
     "duration": 0.020183,
     "end_time": "2021-02-22T03:16:03.925396",
     "exception": false,
     "start_time": "2021-02-22T03:16:03.905213",
     "status": "completed"
    },
    "tags": []
   },
   "source": [
    "# 1. Libraries and settings <a class=\"anchor\" id=\"1-bullet\"></a> "
   ]
  },
  {
   "cell_type": "code",
   "execution_count": 1,
   "metadata": {
    "execution": {
     "iopub.execute_input": "2021-02-22T03:16:03.972065Z",
     "iopub.status.busy": "2021-02-22T03:16:03.970931Z",
     "iopub.status.idle": "2021-02-22T03:16:05.902715Z",
     "shell.execute_reply": "2021-02-22T03:16:05.900809Z"
    },
    "papermill": {
     "duration": 1.956661,
     "end_time": "2021-02-22T03:16:05.903024",
     "exception": false,
     "start_time": "2021-02-22T03:16:03.946363",
     "status": "completed"
    },
    "tags": []
   },
   "outputs": [],
   "source": [
    "import pandas as pd\n",
    "\n",
    "import os\n",
    "\n",
    "from sklearn.model_selection import train_test_split\n",
    "from sklearn.ensemble import RandomForestClassifier\n",
    "from sklearn.metrics import accuracy_score\n",
    "from sklearn.compose import ColumnTransformer\n",
    "from sklearn.pipeline import Pipeline\n",
    "from sklearn.impute import SimpleImputer\n",
    "from sklearn.preprocessing import OneHotEncoder\n",
    "from sklearn.model_selection import cross_val_score\n",
    "\n",
    "from xgboost import XGBClassifier\n",
    "\n",
    "import matplotlib.pyplot as plt\n",
    "import seaborn as sns\n"
   ]
  },
  {
   "cell_type": "markdown",
   "metadata": {
    "papermill": {
     "duration": 0.020027,
     "end_time": "2021-02-22T03:16:05.943924",
     "exception": false,
     "start_time": "2021-02-22T03:16:05.923897",
     "status": "completed"
    },
    "tags": []
   },
   "source": [
    "# 2. Analyze data <a class=\"anchor\" id=\"2-bullet\"></a> \n",
    "- load UCI heart disease data\n",
    "- analyze and visualize data"
   ]
  },
  {
   "cell_type": "code",
   "execution_count": 2,
   "metadata": {
    "execution": {
     "iopub.execute_input": "2021-02-22T03:16:05.993588Z",
     "iopub.status.busy": "2021-02-22T03:16:05.992869Z",
     "iopub.status.idle": "2021-02-22T03:16:06.048819Z",
     "shell.execute_reply": "2021-02-22T03:16:06.049337Z"
    },
    "papermill": {
     "duration": 0.0834,
     "end_time": "2021-02-22T03:16:06.049565",
     "exception": false,
     "start_time": "2021-02-22T03:16:05.966165",
     "status": "completed"
    },
    "tags": []
   },
   "outputs": [
    {
     "data": {
      "text/html": [
       "<div>\n",
       "<style scoped>\n",
       "    .dataframe tbody tr th:only-of-type {\n",
       "        vertical-align: middle;\n",
       "    }\n",
       "\n",
       "    .dataframe tbody tr th {\n",
       "        vertical-align: top;\n",
       "    }\n",
       "\n",
       "    .dataframe thead th {\n",
       "        text-align: right;\n",
       "    }\n",
       "</style>\n",
       "<table border=\"1\" class=\"dataframe\">\n",
       "  <thead>\n",
       "    <tr style=\"text-align: right;\">\n",
       "      <th></th>\n",
       "      <th>age</th>\n",
       "      <th>sex</th>\n",
       "      <th>cp</th>\n",
       "      <th>trestbps</th>\n",
       "      <th>chol</th>\n",
       "      <th>fbs</th>\n",
       "      <th>restecg</th>\n",
       "      <th>thalach</th>\n",
       "      <th>exang</th>\n",
       "      <th>oldpeak</th>\n",
       "      <th>slope</th>\n",
       "      <th>ca</th>\n",
       "      <th>thal</th>\n",
       "      <th>target</th>\n",
       "    </tr>\n",
       "  </thead>\n",
       "  <tbody>\n",
       "    <tr>\n",
       "      <th>0</th>\n",
       "      <td>63</td>\n",
       "      <td>1</td>\n",
       "      <td>3</td>\n",
       "      <td>145</td>\n",
       "      <td>233</td>\n",
       "      <td>1</td>\n",
       "      <td>0</td>\n",
       "      <td>150</td>\n",
       "      <td>0</td>\n",
       "      <td>2.3</td>\n",
       "      <td>0</td>\n",
       "      <td>0</td>\n",
       "      <td>1</td>\n",
       "      <td>1</td>\n",
       "    </tr>\n",
       "    <tr>\n",
       "      <th>1</th>\n",
       "      <td>37</td>\n",
       "      <td>1</td>\n",
       "      <td>2</td>\n",
       "      <td>130</td>\n",
       "      <td>250</td>\n",
       "      <td>0</td>\n",
       "      <td>1</td>\n",
       "      <td>187</td>\n",
       "      <td>0</td>\n",
       "      <td>3.5</td>\n",
       "      <td>0</td>\n",
       "      <td>0</td>\n",
       "      <td>2</td>\n",
       "      <td>1</td>\n",
       "    </tr>\n",
       "    <tr>\n",
       "      <th>2</th>\n",
       "      <td>41</td>\n",
       "      <td>0</td>\n",
       "      <td>1</td>\n",
       "      <td>130</td>\n",
       "      <td>204</td>\n",
       "      <td>0</td>\n",
       "      <td>0</td>\n",
       "      <td>172</td>\n",
       "      <td>0</td>\n",
       "      <td>1.4</td>\n",
       "      <td>2</td>\n",
       "      <td>0</td>\n",
       "      <td>2</td>\n",
       "      <td>1</td>\n",
       "    </tr>\n",
       "    <tr>\n",
       "      <th>3</th>\n",
       "      <td>56</td>\n",
       "      <td>1</td>\n",
       "      <td>1</td>\n",
       "      <td>120</td>\n",
       "      <td>236</td>\n",
       "      <td>0</td>\n",
       "      <td>1</td>\n",
       "      <td>178</td>\n",
       "      <td>0</td>\n",
       "      <td>0.8</td>\n",
       "      <td>2</td>\n",
       "      <td>0</td>\n",
       "      <td>2</td>\n",
       "      <td>1</td>\n",
       "    </tr>\n",
       "    <tr>\n",
       "      <th>4</th>\n",
       "      <td>57</td>\n",
       "      <td>0</td>\n",
       "      <td>0</td>\n",
       "      <td>120</td>\n",
       "      <td>354</td>\n",
       "      <td>0</td>\n",
       "      <td>1</td>\n",
       "      <td>163</td>\n",
       "      <td>1</td>\n",
       "      <td>0.6</td>\n",
       "      <td>2</td>\n",
       "      <td>0</td>\n",
       "      <td>2</td>\n",
       "      <td>1</td>\n",
       "    </tr>\n",
       "  </tbody>\n",
       "</table>\n",
       "</div>"
      ],
      "text/plain": [
       "   age  sex  cp  trestbps  chol  fbs  restecg  thalach  exang  oldpeak  slope  \\\n",
       "0   63    1   3       145   233    1        0      150      0      2.3      0   \n",
       "1   37    1   2       130   250    0        1      187      0      3.5      0   \n",
       "2   41    0   1       130   204    0        0      172      0      1.4      2   \n",
       "3   56    1   1       120   236    0        1      178      0      0.8      2   \n",
       "4   57    0   0       120   354    0        1      163      1      0.6      2   \n",
       "\n",
       "   ca  thal  target  \n",
       "0   0     1       1  \n",
       "1   0     2       1  \n",
       "2   0     2       1  \n",
       "3   0     2       1  \n",
       "4   0     2       1  "
      ]
     },
     "execution_count": 2,
     "metadata": {},
     "output_type": "execute_result"
    }
   ],
   "source": [
    "# read the data\n",
    "df = pd.read_csv(\"/kaggle/input/heart-disease-uci/heart.csv\")\n",
    "df.head()"
   ]
  },
  {
   "cell_type": "code",
   "execution_count": 3,
   "metadata": {
    "execution": {
     "iopub.execute_input": "2021-02-22T03:16:06.096459Z",
     "iopub.status.busy": "2021-02-22T03:16:06.095397Z",
     "iopub.status.idle": "2021-02-22T03:16:06.101199Z",
     "shell.execute_reply": "2021-02-22T03:16:06.101731Z"
    },
    "papermill": {
     "duration": 0.031136,
     "end_time": "2021-02-22T03:16:06.101932",
     "exception": false,
     "start_time": "2021-02-22T03:16:06.070796",
     "status": "completed"
    },
    "tags": []
   },
   "outputs": [
    {
     "data": {
      "text/plain": [
       "(303, 14)"
      ]
     },
     "execution_count": 3,
     "metadata": {},
     "output_type": "execute_result"
    }
   ],
   "source": [
    "df.shape"
   ]
  },
  {
   "cell_type": "code",
   "execution_count": 4,
   "metadata": {
    "execution": {
     "iopub.execute_input": "2021-02-22T03:16:06.149375Z",
     "iopub.status.busy": "2021-02-22T03:16:06.148336Z",
     "iopub.status.idle": "2021-02-22T03:16:06.206191Z",
     "shell.execute_reply": "2021-02-22T03:16:06.205569Z"
    },
    "papermill": {
     "duration": 0.08289,
     "end_time": "2021-02-22T03:16:06.206373",
     "exception": false,
     "start_time": "2021-02-22T03:16:06.123483",
     "status": "completed"
    },
    "tags": []
   },
   "outputs": [
    {
     "data": {
      "text/html": [
       "<div>\n",
       "<style scoped>\n",
       "    .dataframe tbody tr th:only-of-type {\n",
       "        vertical-align: middle;\n",
       "    }\n",
       "\n",
       "    .dataframe tbody tr th {\n",
       "        vertical-align: top;\n",
       "    }\n",
       "\n",
       "    .dataframe thead th {\n",
       "        text-align: right;\n",
       "    }\n",
       "</style>\n",
       "<table border=\"1\" class=\"dataframe\">\n",
       "  <thead>\n",
       "    <tr style=\"text-align: right;\">\n",
       "      <th></th>\n",
       "      <th>age</th>\n",
       "      <th>sex</th>\n",
       "      <th>cp</th>\n",
       "      <th>trestbps</th>\n",
       "      <th>chol</th>\n",
       "      <th>fbs</th>\n",
       "      <th>restecg</th>\n",
       "      <th>thalach</th>\n",
       "      <th>exang</th>\n",
       "      <th>oldpeak</th>\n",
       "      <th>slope</th>\n",
       "      <th>ca</th>\n",
       "      <th>thal</th>\n",
       "      <th>target</th>\n",
       "    </tr>\n",
       "  </thead>\n",
       "  <tbody>\n",
       "    <tr>\n",
       "      <th>count</th>\n",
       "      <td>303.000000</td>\n",
       "      <td>303.000000</td>\n",
       "      <td>303.000000</td>\n",
       "      <td>303.000000</td>\n",
       "      <td>303.000000</td>\n",
       "      <td>303.000000</td>\n",
       "      <td>303.000000</td>\n",
       "      <td>303.000000</td>\n",
       "      <td>303.000000</td>\n",
       "      <td>303.000000</td>\n",
       "      <td>303.000000</td>\n",
       "      <td>303.000000</td>\n",
       "      <td>303.000000</td>\n",
       "      <td>303.000000</td>\n",
       "    </tr>\n",
       "    <tr>\n",
       "      <th>mean</th>\n",
       "      <td>54.366337</td>\n",
       "      <td>0.683168</td>\n",
       "      <td>0.966997</td>\n",
       "      <td>131.623762</td>\n",
       "      <td>246.264026</td>\n",
       "      <td>0.148515</td>\n",
       "      <td>0.528053</td>\n",
       "      <td>149.646865</td>\n",
       "      <td>0.326733</td>\n",
       "      <td>1.039604</td>\n",
       "      <td>1.399340</td>\n",
       "      <td>0.729373</td>\n",
       "      <td>2.313531</td>\n",
       "      <td>0.544554</td>\n",
       "    </tr>\n",
       "    <tr>\n",
       "      <th>std</th>\n",
       "      <td>9.082101</td>\n",
       "      <td>0.466011</td>\n",
       "      <td>1.032052</td>\n",
       "      <td>17.538143</td>\n",
       "      <td>51.830751</td>\n",
       "      <td>0.356198</td>\n",
       "      <td>0.525860</td>\n",
       "      <td>22.905161</td>\n",
       "      <td>0.469794</td>\n",
       "      <td>1.161075</td>\n",
       "      <td>0.616226</td>\n",
       "      <td>1.022606</td>\n",
       "      <td>0.612277</td>\n",
       "      <td>0.498835</td>\n",
       "    </tr>\n",
       "    <tr>\n",
       "      <th>min</th>\n",
       "      <td>29.000000</td>\n",
       "      <td>0.000000</td>\n",
       "      <td>0.000000</td>\n",
       "      <td>94.000000</td>\n",
       "      <td>126.000000</td>\n",
       "      <td>0.000000</td>\n",
       "      <td>0.000000</td>\n",
       "      <td>71.000000</td>\n",
       "      <td>0.000000</td>\n",
       "      <td>0.000000</td>\n",
       "      <td>0.000000</td>\n",
       "      <td>0.000000</td>\n",
       "      <td>0.000000</td>\n",
       "      <td>0.000000</td>\n",
       "    </tr>\n",
       "    <tr>\n",
       "      <th>25%</th>\n",
       "      <td>47.500000</td>\n",
       "      <td>0.000000</td>\n",
       "      <td>0.000000</td>\n",
       "      <td>120.000000</td>\n",
       "      <td>211.000000</td>\n",
       "      <td>0.000000</td>\n",
       "      <td>0.000000</td>\n",
       "      <td>133.500000</td>\n",
       "      <td>0.000000</td>\n",
       "      <td>0.000000</td>\n",
       "      <td>1.000000</td>\n",
       "      <td>0.000000</td>\n",
       "      <td>2.000000</td>\n",
       "      <td>0.000000</td>\n",
       "    </tr>\n",
       "    <tr>\n",
       "      <th>50%</th>\n",
       "      <td>55.000000</td>\n",
       "      <td>1.000000</td>\n",
       "      <td>1.000000</td>\n",
       "      <td>130.000000</td>\n",
       "      <td>240.000000</td>\n",
       "      <td>0.000000</td>\n",
       "      <td>1.000000</td>\n",
       "      <td>153.000000</td>\n",
       "      <td>0.000000</td>\n",
       "      <td>0.800000</td>\n",
       "      <td>1.000000</td>\n",
       "      <td>0.000000</td>\n",
       "      <td>2.000000</td>\n",
       "      <td>1.000000</td>\n",
       "    </tr>\n",
       "    <tr>\n",
       "      <th>75%</th>\n",
       "      <td>61.000000</td>\n",
       "      <td>1.000000</td>\n",
       "      <td>2.000000</td>\n",
       "      <td>140.000000</td>\n",
       "      <td>274.500000</td>\n",
       "      <td>0.000000</td>\n",
       "      <td>1.000000</td>\n",
       "      <td>166.000000</td>\n",
       "      <td>1.000000</td>\n",
       "      <td>1.600000</td>\n",
       "      <td>2.000000</td>\n",
       "      <td>1.000000</td>\n",
       "      <td>3.000000</td>\n",
       "      <td>1.000000</td>\n",
       "    </tr>\n",
       "    <tr>\n",
       "      <th>max</th>\n",
       "      <td>77.000000</td>\n",
       "      <td>1.000000</td>\n",
       "      <td>3.000000</td>\n",
       "      <td>200.000000</td>\n",
       "      <td>564.000000</td>\n",
       "      <td>1.000000</td>\n",
       "      <td>2.000000</td>\n",
       "      <td>202.000000</td>\n",
       "      <td>1.000000</td>\n",
       "      <td>6.200000</td>\n",
       "      <td>2.000000</td>\n",
       "      <td>4.000000</td>\n",
       "      <td>3.000000</td>\n",
       "      <td>1.000000</td>\n",
       "    </tr>\n",
       "  </tbody>\n",
       "</table>\n",
       "</div>"
      ],
      "text/plain": [
       "              age         sex          cp    trestbps        chol         fbs  \\\n",
       "count  303.000000  303.000000  303.000000  303.000000  303.000000  303.000000   \n",
       "mean    54.366337    0.683168    0.966997  131.623762  246.264026    0.148515   \n",
       "std      9.082101    0.466011    1.032052   17.538143   51.830751    0.356198   \n",
       "min     29.000000    0.000000    0.000000   94.000000  126.000000    0.000000   \n",
       "25%     47.500000    0.000000    0.000000  120.000000  211.000000    0.000000   \n",
       "50%     55.000000    1.000000    1.000000  130.000000  240.000000    0.000000   \n",
       "75%     61.000000    1.000000    2.000000  140.000000  274.500000    0.000000   \n",
       "max     77.000000    1.000000    3.000000  200.000000  564.000000    1.000000   \n",
       "\n",
       "          restecg     thalach       exang     oldpeak       slope          ca  \\\n",
       "count  303.000000  303.000000  303.000000  303.000000  303.000000  303.000000   \n",
       "mean     0.528053  149.646865    0.326733    1.039604    1.399340    0.729373   \n",
       "std      0.525860   22.905161    0.469794    1.161075    0.616226    1.022606   \n",
       "min      0.000000   71.000000    0.000000    0.000000    0.000000    0.000000   \n",
       "25%      0.000000  133.500000    0.000000    0.000000    1.000000    0.000000   \n",
       "50%      1.000000  153.000000    0.000000    0.800000    1.000000    0.000000   \n",
       "75%      1.000000  166.000000    1.000000    1.600000    2.000000    1.000000   \n",
       "max      2.000000  202.000000    1.000000    6.200000    2.000000    4.000000   \n",
       "\n",
       "             thal      target  \n",
       "count  303.000000  303.000000  \n",
       "mean     2.313531    0.544554  \n",
       "std      0.612277    0.498835  \n",
       "min      0.000000    0.000000  \n",
       "25%      2.000000    0.000000  \n",
       "50%      2.000000    1.000000  \n",
       "75%      3.000000    1.000000  \n",
       "max      3.000000    1.000000  "
      ]
     },
     "execution_count": 4,
     "metadata": {},
     "output_type": "execute_result"
    }
   ],
   "source": [
    "df.describe()"
   ]
  },
  {
   "cell_type": "markdown",
   "metadata": {
    "papermill": {
     "duration": 0.021784,
     "end_time": "2021-02-22T03:16:06.250492",
     "exception": false,
     "start_time": "2021-02-22T03:16:06.228708",
     "status": "completed"
    },
    "tags": []
   },
   "source": [
    "Note: all features of this dataset are numerical"
   ]
  },
  {
   "cell_type": "code",
   "execution_count": 5,
   "metadata": {
    "execution": {
     "iopub.execute_input": "2021-02-22T03:16:06.319587Z",
     "iopub.status.busy": "2021-02-22T03:16:06.318802Z",
     "iopub.status.idle": "2021-02-22T03:16:07.859610Z",
     "shell.execute_reply": "2021-02-22T03:16:07.860232Z"
    },
    "papermill": {
     "duration": 1.587743,
     "end_time": "2021-02-22T03:16:07.860456",
     "exception": false,
     "start_time": "2021-02-22T03:16:06.272713",
     "status": "completed"
    },
    "tags": []
   },
   "outputs": [
    {
     "data": {
      "image/png": "[encoded data removed]",
      "text/plain": [
       "<Figure size 1008x1008 with 2 Axes>"
      ]
     },
     "metadata": {
      "needs_background": "light"
     },
     "output_type": "display_data"
    }
   ],
   "source": [
    "f,ax = plt.subplots(figsize=(14, 14))\n",
    "ax = ax.set_title(\"Correlation Matrix\")\n",
    "fig = sns.heatmap(df.corr(), annot=True, linewidths=.5,  fmt= '.1f', label = 'small')\n",
    "fig = fig.get_figure()"
   ]
  },
  {
   "cell_type": "code",
   "execution_count": 6,
   "metadata": {
    "execution": {
     "iopub.execute_input": "2021-02-22T03:16:07.915857Z",
     "iopub.status.busy": "2021-02-22T03:16:07.914533Z",
     "iopub.status.idle": "2021-02-22T03:16:07.933087Z",
     "shell.execute_reply": "2021-02-22T03:16:07.933625Z"
    },
    "papermill": {
     "duration": 0.047824,
     "end_time": "2021-02-22T03:16:07.933855",
     "exception": false,
     "start_time": "2021-02-22T03:16:07.886031",
     "status": "completed"
    },
    "tags": []
   },
   "outputs": [
    {
     "data": {
      "text/plain": [
       "age          41\n",
       "sex           2\n",
       "cp            4\n",
       "trestbps     49\n",
       "chol        152\n",
       "fbs           2\n",
       "restecg       3\n",
       "thalach      91\n",
       "exang         2\n",
       "oldpeak      40\n",
       "slope         3\n",
       "ca            5\n",
       "thal          4\n",
       "target        2\n",
       "dtype: int64"
      ]
     },
     "execution_count": 6,
     "metadata": {},
     "output_type": "execute_result"
    }
   ],
   "source": [
    "df.nunique()"
   ]
  },
  {
   "cell_type": "code",
   "execution_count": 7,
   "metadata": {
    "execution": {
     "iopub.execute_input": "2021-02-22T03:16:07.995170Z",
     "iopub.status.busy": "2021-02-22T03:16:07.994417Z",
     "iopub.status.idle": "2021-02-22T03:16:08.182626Z",
     "shell.execute_reply": "2021-02-22T03:16:08.183210Z"
    },
    "papermill": {
     "duration": 0.223673,
     "end_time": "2021-02-22T03:16:08.183412",
     "exception": false,
     "start_time": "2021-02-22T03:16:07.959739",
     "status": "completed"
    },
    "tags": []
   },
   "outputs": [
    {
     "data": {
      "image/png": "[encoded data removed]",
      "text/plain": [
       "<Figure size 432x288 with 1 Axes>"
      ]
     },
     "metadata": {
      "needs_background": "light"
     },
     "output_type": "display_data"
    }
   ],
   "source": [
    "target_count = df.target.value_counts()\n",
    "target_count.plot(kind='bar', title='Count (target)');"
   ]
  },
  {
   "cell_type": "code",
   "execution_count": 8,
   "metadata": {
    "execution": {
     "iopub.execute_input": "2021-02-22T03:16:08.264122Z",
     "iopub.status.busy": "2021-02-22T03:16:08.253407Z",
     "iopub.status.idle": "2021-02-22T03:16:08.382529Z",
     "shell.execute_reply": "2021-02-22T03:16:08.383077Z"
    },
    "papermill": {
     "duration": 0.173756,
     "end_time": "2021-02-22T03:16:08.383358",
     "exception": false,
     "start_time": "2021-02-22T03:16:08.209602",
     "status": "completed"
    },
    "tags": []
   },
   "outputs": [
    {
     "data": {
      "image/png": "[encoded data removed]",
      "text/plain": [
       "<Figure size 432x288 with 1 Axes>"
      ]
     },
     "metadata": {
      "needs_background": "light"
     },
     "output_type": "display_data"
    }
   ],
   "source": [
    "target_count = df.sex.value_counts()\n",
    "target_count.plot(kind='bar', title='Count (sex)');"
   ]
  },
  {
   "cell_type": "code",
   "execution_count": 9,
   "metadata": {
    "execution": {
     "iopub.execute_input": "2021-02-22T03:16:08.463444Z",
     "iopub.status.busy": "2021-02-22T03:16:08.462430Z",
     "iopub.status.idle": "2021-02-22T03:16:08.751743Z",
     "shell.execute_reply": "2021-02-22T03:16:08.751173Z"
    },
    "papermill": {
     "duration": 0.341723,
     "end_time": "2021-02-22T03:16:08.751921",
     "exception": false,
     "start_time": "2021-02-22T03:16:08.410198",
     "status": "completed"
    },
    "tags": []
   },
   "outputs": [
    {
     "data": {
      "text/plain": [
       "<seaborn.axisgrid.FacetGrid at 0x7fb6cbe67b90>"
      ]
     },
     "execution_count": 9,
     "metadata": {},
     "output_type": "execute_result"
    },
    {
     "data": {
      "image/png": "[encoded data removed]",
      "text/plain": [
       "<Figure size 360x360 with 1 Axes>"
      ]
     },
     "metadata": {
      "needs_background": "light"
     },
     "output_type": "display_data"
    }
   ],
   "source": [
    "sns.displot(df['chol'], kde = False)"
   ]
  },
  {
   "cell_type": "code",
   "execution_count": 10,
   "metadata": {
    "execution": {
     "iopub.execute_input": "2021-02-22T03:16:08.850716Z",
     "iopub.status.busy": "2021-02-22T03:16:08.849513Z",
     "iopub.status.idle": "2021-02-22T03:16:09.122627Z",
     "shell.execute_reply": "2021-02-22T03:16:09.122018Z"
    },
    "papermill": {
     "duration": 0.342729,
     "end_time": "2021-02-22T03:16:09.122807",
     "exception": false,
     "start_time": "2021-02-22T03:16:08.780078",
     "status": "completed"
    },
    "tags": []
   },
   "outputs": [
    {
     "data": {
      "text/plain": [
       "<seaborn.axisgrid.FacetGrid at 0x7fb6c822bed0>"
      ]
     },
     "execution_count": 10,
     "metadata": {},
     "output_type": "execute_result"
    },
    {
     "data": {
      "image/png": "[encoded data removed]",
      "text/plain": [
       "<Figure size 360x360 with 1 Axes>"
      ]
     },
     "metadata": {
      "needs_background": "light"
     },
     "output_type": "display_data"
    }
   ],
   "source": [
    "sns.displot(df['trestbps'], kde = False)"
   ]
  },
  {
   "cell_type": "markdown",
   "metadata": {
    "papermill": {
     "duration": 0.029679,
     "end_time": "2021-02-22T03:16:09.182485",
     "exception": false,
     "start_time": "2021-02-22T03:16:09.152806",
     "status": "completed"
    },
    "tags": []
   },
   "source": [
    "# 3. Manipulate data <a class=\"anchor\" id=\"3-bullet\"></a> \n",
    "- split training and validation data"
   ]
  },
  {
   "cell_type": "code",
   "execution_count": 11,
   "metadata": {
    "execution": {
     "iopub.execute_input": "2021-02-22T03:16:09.250344Z",
     "iopub.status.busy": "2021-02-22T03:16:09.249449Z",
     "iopub.status.idle": "2021-02-22T03:16:09.253139Z",
     "shell.execute_reply": "2021-02-22T03:16:09.252534Z"
    },
    "papermill": {
     "duration": 0.040962,
     "end_time": "2021-02-22T03:16:09.253319",
     "exception": false,
     "start_time": "2021-02-22T03:16:09.212357",
     "status": "completed"
    },
    "tags": []
   },
   "outputs": [],
   "source": [
    "# split inputs and output\n",
    "X = df.drop(columns='target')\n",
    "y = df['target']"
   ]
  },
  {
   "cell_type": "code",
   "execution_count": 12,
   "metadata": {
    "execution": {
     "iopub.execute_input": "2021-02-22T03:16:09.321755Z",
     "iopub.status.busy": "2021-02-22T03:16:09.319578Z",
     "iopub.status.idle": "2021-02-22T03:16:09.327366Z",
     "shell.execute_reply": "2021-02-22T03:16:09.326698Z"
    },
    "papermill": {
     "duration": 0.044535,
     "end_time": "2021-02-22T03:16:09.327542",
     "exception": false,
     "start_time": "2021-02-22T03:16:09.283007",
     "status": "completed"
    },
    "tags": []
   },
   "outputs": [],
   "source": [
    "# Split training and testing data sets\n",
    "X_train, X_valid, y_train, y_valid = train_test_split(X, y, \n",
    "                                                                train_size=0.8, test_size=0.2,\n",
    "                                                                random_state=0)"
   ]
  },
  {
   "cell_type": "code",
   "execution_count": 13,
   "metadata": {
    "execution": {
     "iopub.execute_input": "2021-02-22T03:16:09.397417Z",
     "iopub.status.busy": "2021-02-22T03:16:09.396457Z",
     "iopub.status.idle": "2021-02-22T03:16:09.401645Z",
     "shell.execute_reply": "2021-02-22T03:16:09.402480Z"
    },
    "papermill": {
     "duration": 0.045514,
     "end_time": "2021-02-22T03:16:09.402983",
     "exception": false,
     "start_time": "2021-02-22T03:16:09.357469",
     "status": "completed"
    },
    "tags": []
   },
   "outputs": [
    {
     "name": "stdout",
     "output_type": "stream",
     "text": [
      "Series([], dtype: int64)\n"
     ]
    }
   ],
   "source": [
    "# Number of missing values in each column of training data\n",
    "missing_val_count_by_column = (X_train.isnull().sum())\n",
    "print(missing_val_count_by_column[missing_val_count_by_column > 0])"
   ]
  },
  {
   "cell_type": "code",
   "execution_count": 14,
   "metadata": {
    "execution": {
     "iopub.execute_input": "2021-02-22T03:16:09.472430Z",
     "iopub.status.busy": "2021-02-22T03:16:09.471650Z",
     "iopub.status.idle": "2021-02-22T03:16:09.478015Z",
     "shell.execute_reply": "2021-02-22T03:16:09.478569Z"
    },
    "papermill": {
     "duration": 0.043772,
     "end_time": "2021-02-22T03:16:09.479009",
     "exception": false,
     "start_time": "2021-02-22T03:16:09.435237",
     "status": "completed"
    },
    "tags": []
   },
   "outputs": [],
   "source": [
    "# Select categorical columns with relatively low cardinality <10 (convenient but arbitrary)\n",
    "categorical_cols = [cname for cname in X_train.columns if\n",
    "                    X_train[cname].nunique() < 10 and \n",
    "                    X_train[cname].dtype == \"object\"]"
   ]
  },
  {
   "cell_type": "code",
   "execution_count": 15,
   "metadata": {
    "execution": {
     "iopub.execute_input": "2021-02-22T03:16:09.544043Z",
     "iopub.status.busy": "2021-02-22T03:16:09.543260Z",
     "iopub.status.idle": "2021-02-22T03:16:09.548377Z",
     "shell.execute_reply": "2021-02-22T03:16:09.548990Z"
    },
    "papermill": {
     "duration": 0.039864,
     "end_time": "2021-02-22T03:16:09.549209",
     "exception": false,
     "start_time": "2021-02-22T03:16:09.509345",
     "status": "completed"
    },
    "tags": []
   },
   "outputs": [],
   "source": [
    "# Select numerical columns\n",
    "numerical_cols = [cname for cname in X_train.columns if \n",
    "                X_train[cname].dtype in ['int64', 'float64']]"
   ]
  },
  {
   "cell_type": "code",
   "execution_count": 16,
   "metadata": {
    "execution": {
     "iopub.execute_input": "2021-02-22T03:16:09.615014Z",
     "iopub.status.busy": "2021-02-22T03:16:09.614147Z",
     "iopub.status.idle": "2021-02-22T03:16:09.622068Z",
     "shell.execute_reply": "2021-02-22T03:16:09.622721Z"
    },
    "papermill": {
     "duration": 0.043334,
     "end_time": "2021-02-22T03:16:09.622962",
     "exception": false,
     "start_time": "2021-02-22T03:16:09.579628",
     "status": "completed"
    },
    "tags": []
   },
   "outputs": [],
   "source": [
    "# Keep selected columns only\n",
    "my_cols = categorical_cols + numerical_cols\n",
    "X_train = X_train[my_cols].copy()\n",
    "X_valid = X_valid[my_cols].copy()"
   ]
  },
  {
   "cell_type": "markdown",
   "metadata": {
    "papermill": {
     "duration": 0.029921,
     "end_time": "2021-02-22T03:16:09.684764",
     "exception": false,
     "start_time": "2021-02-22T03:16:09.654843",
     "status": "completed"
    },
    "tags": []
   },
   "source": [
    "# 4. Model and validate data <a class=\"anchor\" id=\"4-bullet\"></a> "
   ]
  },
  {
   "cell_type": "markdown",
   "metadata": {
    "papermill": {
     "duration": 0.030622,
     "end_time": "2021-02-22T03:16:09.746593",
     "exception": false,
     "start_time": "2021-02-22T03:16:09.715971",
     "status": "completed"
    },
    "tags": []
   },
   "source": [
    "## Model 1: Random Forest"
   ]
  },
  {
   "cell_type": "code",
   "execution_count": 17,
   "metadata": {
    "execution": {
     "iopub.execute_input": "2021-02-22T03:16:09.811466Z",
     "iopub.status.busy": "2021-02-22T03:16:09.810714Z",
     "iopub.status.idle": "2021-02-22T03:16:09.817050Z",
     "shell.execute_reply": "2021-02-22T03:16:09.817629Z"
    },
    "papermill": {
     "duration": 0.040716,
     "end_time": "2021-02-22T03:16:09.817860",
     "exception": false,
     "start_time": "2021-02-22T03:16:09.777144",
     "status": "completed"
    },
    "tags": []
   },
   "outputs": [],
   "source": [
    "# Pipeline information\n",
    "\n",
    "# Preprocessing for numerical data\n",
    "numerical_transformer = SimpleImputer(strategy='median')\n",
    "\n",
    "# Preprocessing for categorical data\n",
    "categorical_transformer = Pipeline(steps=[\n",
    "    ('imputer', SimpleImputer(strategy='most_frequent')),\n",
    "    ('onehot', OneHotEncoder(handle_unknown='ignore'))\n",
    "])\n",
    "\n",
    "# Bundle preprocessing for numerical and categorical data\n",
    "preprocessor = ColumnTransformer(\n",
    "    transformers=[\n",
    "        ('num', numerical_transformer, numerical_cols),\n",
    "        ('cat', categorical_transformer, categorical_cols)\n",
    "    ])\n"
   ]
  },
  {
   "cell_type": "code",
   "execution_count": 18,
   "metadata": {
    "execution": {
     "iopub.execute_input": "2021-02-22T03:16:09.884107Z",
     "iopub.status.busy": "2021-02-22T03:16:09.883140Z",
     "iopub.status.idle": "2021-02-22T03:16:09.888491Z",
     "shell.execute_reply": "2021-02-22T03:16:09.889108Z"
    },
    "papermill": {
     "duration": 0.040735,
     "end_time": "2021-02-22T03:16:09.889328",
     "exception": false,
     "start_time": "2021-02-22T03:16:09.848593",
     "status": "completed"
    },
    "tags": []
   },
   "outputs": [],
   "source": [
    "# Define model\n",
    "model = RandomForestClassifier(n_estimators=100, random_state=0)\n",
    "\n",
    "# Bundle preprocessing and modeling code in a pipeline\n",
    "clf = Pipeline(steps=[('preprocessor', preprocessor),\n",
    "                      ('model', model)\n",
    "                     ])"
   ]
  },
  {
   "cell_type": "code",
   "execution_count": 19,
   "metadata": {
    "execution": {
     "iopub.execute_input": "2021-02-22T03:16:09.957639Z",
     "iopub.status.busy": "2021-02-22T03:16:09.956880Z",
     "iopub.status.idle": "2021-02-22T03:16:10.405628Z",
     "shell.execute_reply": "2021-02-22T03:16:10.404872Z"
    },
    "papermill": {
     "duration": 0.484322,
     "end_time": "2021-02-22T03:16:10.405839",
     "exception": false,
     "start_time": "2021-02-22T03:16:09.921517",
     "status": "completed"
    },
    "tags": []
   },
   "outputs": [
    {
     "data": {
      "text/plain": [
       "Pipeline(steps=[('preprocessor',\n",
       "                 ColumnTransformer(transformers=[('num',\n",
       "                                                  SimpleImputer(strategy='median'),\n",
       "                                                  ['age', 'sex', 'cp',\n",
       "                                                   'trestbps', 'chol', 'fbs',\n",
       "                                                   'restecg', 'thalach',\n",
       "                                                   'exang', 'oldpeak', 'slope',\n",
       "                                                   'ca', 'thal']),\n",
       "                                                 ('cat',\n",
       "                                                  Pipeline(steps=[('imputer',\n",
       "                                                                   SimpleImputer(strategy='most_frequent')),\n",
       "                                                                  ('onehot',\n",
       "                                                                   OneHotEncoder(handle_unknown='ignore'))]),\n",
       "                                                  [])])),\n",
       "                ('model', RandomForestClassifier(random_state=0))])"
      ]
     },
     "execution_count": 19,
     "metadata": {},
     "output_type": "execute_result"
    }
   ],
   "source": [
    "# Preprocessing of training data, fit model \n",
    "clf.fit(X_train, y_train)"
   ]
  },
  {
   "cell_type": "markdown",
   "metadata": {
    "papermill": {
     "duration": 0.031154,
     "end_time": "2021-02-22T03:16:10.469339",
     "exception": false,
     "start_time": "2021-02-22T03:16:10.438185",
     "status": "completed"
    },
    "tags": []
   },
   "source": [
    "## Model 2: Cross-validated, Tuned Random Forest"
   ]
  },
  {
   "cell_type": "code",
   "execution_count": 20,
   "metadata": {
    "execution": {
     "iopub.execute_input": "2021-02-22T03:16:10.541017Z",
     "iopub.status.busy": "2021-02-22T03:16:10.540101Z",
     "iopub.status.idle": "2021-02-22T03:16:10.542604Z",
     "shell.execute_reply": "2021-02-22T03:16:10.543293Z"
    },
    "papermill": {
     "duration": 0.042066,
     "end_time": "2021-02-22T03:16:10.543513",
     "exception": false,
     "start_time": "2021-02-22T03:16:10.501447",
     "status": "completed"
    },
    "tags": []
   },
   "outputs": [],
   "source": [
    "def get_score(n_estimators):\n",
    "    \"\"\"Return the average accuracy over 3 CV folds of random forest model.\n",
    "    \n",
    "    Keyword argument:\n",
    "    n_estimators -- the number of trees in the forest\n",
    "    \"\"\"\n",
    "    my_pipeline = Pipeline(steps = [('preprocessor', SimpleImputer()),\n",
    "                                    ('model', RandomForestClassifier(n_estimators, random_state = 42))])\n",
    "    scores = cross_val_score(my_pipeline, X, y,\n",
    "                                  cv = 3,\n",
    "                                  scoring = 'accuracy')\n",
    "    return scores.mean()"
   ]
  },
  {
   "cell_type": "code",
   "execution_count": 21,
   "metadata": {
    "execution": {
     "iopub.execute_input": "2021-02-22T03:16:10.611398Z",
     "iopub.status.busy": "2021-02-22T03:16:10.610606Z",
     "iopub.status.idle": "2021-02-22T03:17:10.019363Z",
     "shell.execute_reply": "2021-02-22T03:17:10.018249Z"
    },
    "papermill": {
     "duration": 59.444247,
     "end_time": "2021-02-22T03:17:10.019566",
     "exception": false,
     "start_time": "2021-02-22T03:16:10.575319",
     "status": "completed"
    },
    "tags": []
   },
   "outputs": [],
   "source": [
    "# Iterations of parameters\n",
    "results = {}\n",
    "\n",
    "for i in range(1,20):\n",
    "    results[50 * i] = get_score(50 * i)\n",
    "\n",
    "n_estimators_best = max(results, key = results.get)"
   ]
  },
  {
   "cell_type": "code",
   "execution_count": 22,
   "metadata": {
    "execution": {
     "iopub.execute_input": "2021-02-22T03:17:10.093412Z",
     "iopub.status.busy": "2021-02-22T03:17:10.092384Z",
     "iopub.status.idle": "2021-02-22T03:17:10.096072Z",
     "shell.execute_reply": "2021-02-22T03:17:10.096643Z"
    },
    "papermill": {
     "duration": 0.042632,
     "end_time": "2021-02-22T03:17:10.096885",
     "exception": false,
     "start_time": "2021-02-22T03:17:10.054253",
     "status": "completed"
    },
    "tags": []
   },
   "outputs": [
    {
     "name": "stdout",
     "output_type": "stream",
     "text": [
      "{50: 0.8283828382838284, 100: 0.8382838283828383, 150: 0.8316831683168316, 200: 0.834983498349835, 250: 0.8316831683168316, 300: 0.8316831683168316, 350: 0.834983498349835, 400: 0.834983498349835, 450: 0.8316831683168316, 500: 0.834983498349835, 550: 0.8283828382838284, 600: 0.834983498349835, 650: 0.8382838283828383, 700: 0.8382838283828383, 750: 0.8316831683168316, 800: 0.834983498349835, 850: 0.8316831683168316, 900: 0.8316831683168316, 950: 0.8283828382838284}\n",
      "0.8382838283828383\n"
     ]
    }
   ],
   "source": [
    "print(results)\n",
    "print(results[n_estimators_best])"
   ]
  },
  {
   "cell_type": "markdown",
   "metadata": {
    "papermill": {
     "duration": 0.032283,
     "end_time": "2021-02-22T03:17:10.161897",
     "exception": false,
     "start_time": "2021-02-22T03:17:10.129614",
     "status": "completed"
    },
    "tags": []
   },
   "source": [
    "## Model 3: XGB Classifier"
   ]
  },
  {
   "cell_type": "code",
   "execution_count": 23,
   "metadata": {
    "execution": {
     "iopub.execute_input": "2021-02-22T03:17:10.235011Z",
     "iopub.status.busy": "2021-02-22T03:17:10.234155Z",
     "iopub.status.idle": "2021-02-22T03:17:10.296982Z",
     "shell.execute_reply": "2021-02-22T03:17:10.297621Z"
    },
    "papermill": {
     "duration": 0.103347,
     "end_time": "2021-02-22T03:17:10.297946",
     "exception": false,
     "start_time": "2021-02-22T03:17:10.194599",
     "status": "completed"
    },
    "tags": []
   },
   "outputs": [
    {
     "name": "stderr",
     "output_type": "stream",
     "text": [
      "/opt/conda/lib/python3.7/site-packages/xgboost/sklearn.py:888: UserWarning: The use of label encoder in XGBClassifier is deprecated and will be removed in a future release. To remove this warning, do the following: 1) Pass option use_label_encoder=False when constructing XGBClassifier object; and 2) Encode your labels (y) as integers starting with 0, i.e. 0, 1, 2, ..., [num_class - 1].\n",
      "  warnings.warn(label_encoder_deprecation_msg, UserWarning)\n"
     ]
    },
    {
     "data": {
      "text/plain": [
       "XGBClassifier(base_score=0.5, booster='gbtree', colsample_bylevel=1,\n",
       "              colsample_bynode=1, colsample_bytree=1, gamma=0, gpu_id=-1,\n",
       "              importance_type='gain', interaction_constraints='',\n",
       "              learning_rate=0.15, max_delta_step=0, max_depth=6,\n",
       "              min_child_weight=1, missing=nan, monotone_constraints='()',\n",
       "              n_estimators=50, n_jobs=4, num_parallel_tree=1, random_state=0,\n",
       "              reg_alpha=0, reg_lambda=1, scale_pos_weight=1, subsample=1,\n",
       "              tree_method='exact', validate_parameters=1, verbosity=None)"
      ]
     },
     "execution_count": 23,
     "metadata": {},
     "output_type": "execute_result"
    }
   ],
   "source": [
    "# Preprocessing of validation data, get predictions\n",
    "my_model3 = XGBClassifier(n_estimators=50, learning_rate=0.15)\n",
    "my_model3.fit(X_train, y_train, \n",
    "             early_stopping_rounds=8, \n",
    "             eval_metric= 'error',\n",
    "             eval_set=[(X_valid, y_valid)], \n",
    "             verbose=False)"
   ]
  },
  {
   "cell_type": "markdown",
   "metadata": {
    "papermill": {
     "duration": 0.032482,
     "end_time": "2021-02-22T03:17:10.366584",
     "exception": false,
     "start_time": "2021-02-22T03:17:10.334102",
     "status": "completed"
    },
    "tags": []
   },
   "source": [
    "# 5. Prediction <a class=\"anchor\" id=\"5-bullet\"></a> "
   ]
  },
  {
   "cell_type": "code",
   "execution_count": 24,
   "metadata": {
    "execution": {
     "iopub.execute_input": "2021-02-22T03:17:10.443010Z",
     "iopub.status.busy": "2021-02-22T03:17:10.442146Z",
     "iopub.status.idle": "2021-02-22T03:17:10.459051Z",
     "shell.execute_reply": "2021-02-22T03:17:10.458393Z"
    },
    "papermill": {
     "duration": 0.059485,
     "end_time": "2021-02-22T03:17:10.459243",
     "exception": false,
     "start_time": "2021-02-22T03:17:10.399758",
     "status": "completed"
    },
    "tags": []
   },
   "outputs": [],
   "source": [
    "preds1 = clf.predict(X_valid)"
   ]
  },
  {
   "cell_type": "code",
   "execution_count": 25,
   "metadata": {
    "execution": {
     "iopub.execute_input": "2021-02-22T03:17:10.530817Z",
     "iopub.status.busy": "2021-02-22T03:17:10.529636Z",
     "iopub.status.idle": "2021-02-22T03:17:10.539647Z",
     "shell.execute_reply": "2021-02-22T03:17:10.538939Z"
    },
    "papermill": {
     "duration": 0.047483,
     "end_time": "2021-02-22T03:17:10.539865",
     "exception": false,
     "start_time": "2021-02-22T03:17:10.492382",
     "status": "completed"
    },
    "tags": []
   },
   "outputs": [],
   "source": [
    "preds3 = my_model3.predict(X_valid)"
   ]
  },
  {
   "cell_type": "code",
   "execution_count": 26,
   "metadata": {
    "execution": {
     "iopub.execute_input": "2021-02-22T03:17:10.618340Z",
     "iopub.status.busy": "2021-02-22T03:17:10.617134Z",
     "iopub.status.idle": "2021-02-22T03:17:10.622940Z",
     "shell.execute_reply": "2021-02-22T03:17:10.622304Z"
    },
    "papermill": {
     "duration": 0.046624,
     "end_time": "2021-02-22T03:17:10.623113",
     "exception": false,
     "start_time": "2021-02-22T03:17:10.576489",
     "status": "completed"
    },
    "tags": []
   },
   "outputs": [
    {
     "name": "stdout",
     "output_type": "stream",
     "text": [
      "Model 1 Accuracy Score: 0.8852459016393442\n",
      "Model 2 Accuracy Score: 0.8382838283828383\n",
      "Model 3 Accuracy Score: 0.8688524590163934\n"
     ]
    }
   ],
   "source": [
    "print('Model 1 Accuracy Score:', accuracy_score(y_valid, preds1))\n",
    "print('Model 2 Accuracy Score:', results[n_estimators_best])\n",
    "print('Model 3 Accuracy Score:', accuracy_score(y_valid, preds3))"
   ]
  }
 ],
 "metadata": {
  "kernelspec": {
   "display_name": "Python 3",
   "language": "python",
   "name": "python3"
  },
  "language_info": {
   "codemirror_mode": {
    "name": "ipython",
    "version": 3
   },
   "file_extension": ".py",
   "mimetype": "text/x-python",
   "name": "python",
   "nbconvert_exporter": "python",
   "pygments_lexer": "ipython3",
   "version": "3.7.9"
  },
  "papermill": {
   "default_parameters": {},
   "duration": 74.399962,
   "end_time": "2021-02-22T03:17:11.369001",
   "environment_variables": {},
   "exception": null,
   "input_path": "__notebook__.ipynb",
   "output_path": "__notebook__.ipynb",
   "parameters": {},
   "start_time": "2021-02-22T03:15:56.969039",
   "version": "2.2.2"
  }
 },
 "nbformat": 4,
 "nbformat_minor": 4
}
